{
 "cells": [
  {
   "cell_type": "code",
   "execution_count": 1,
   "id": "f1e9a3f1",
   "metadata": {},
   "outputs": [],
   "source": [
    "import pandas as pd\n",
    "import numpy as np\n",
    "\n",
    "from itertools import product\n",
    "\n",
    "import torch\n",
    "from torch.utils.data import DataLoader\n",
    "\n",
    "from tqdm.auto import tqdm\n",
    "\n",
    "from models.Wide_Deep import Wide_Deep\n",
    "from models.WD_Dataset import WD_Dataset\n",
    "\n",
    "\n",
    "from utils.utils import (load_test_data, target_features, numerical_features,\n",
    "                         categorical_features, features, get_results_df)"
   ]
  },
  {
   "cell_type": "code",
   "execution_count": 2,
   "id": "bf03f6a4",
   "metadata": {},
   "outputs": [
    {
     "data": {
      "text/plain": [
       "'cuda'"
      ]
     },
     "execution_count": 2,
     "metadata": {},
     "output_type": "execute_result"
    }
   ],
   "source": [
    "DATA_PATH = \"./data/\"\n",
    "CHECKPOINT_PATH = \"./checkpoints/\"\n",
    "\n",
    "BATCH_SIZE = 128\n",
    "\n",
    "DEVICE = \"cuda\" if torch.cuda.is_available() else \"cpu\"\n",
    "DEVICE"
   ]
  },
  {
   "cell_type": "code",
   "execution_count": 3,
   "id": "db16a3d2",
   "metadata": {},
   "outputs": [],
   "source": [
    "test_df = load_test_data(DATA_PATH)\n",
    "ground_truths = test_df.loc[:, target_features].values"
   ]
  },
  {
   "cell_type": "code",
   "execution_count": 4,
   "id": "24a4c68a",
   "metadata": {},
   "outputs": [],
   "source": [
    "model = Wide_Deep(dim_features=len(numerical_features + features),\n",
    "                                dim_hidden=[768,512,256,128,64,32])\n",
    "\n",
    "PATH = CHECKPOINT_PATH+\"WD_epoch_1_end\"\n",
    "model.load_state_dict(torch.load(PATH))\n",
    "model = model.to(DEVICE)"
   ]
  },
  {
   "cell_type": "code",
   "execution_count": 5,
   "id": "5e2d4967",
   "metadata": {},
   "outputs": [],
   "source": [
    "def create_dataset(df, numerical_features=numerical_features,\n",
    "                   features=features, targets=target_features):\n",
    "    all_features = numerical_features + features\n",
    "    \n",
    "    feats = df.loc[:,all_features].values\n",
    "    target_values = df.loc[:, targets].values\n",
    "    \n",
    "    return WD_Dataset(feats, target_values)\n",
    "\n",
    "dataset = create_dataset(test_df)"
   ]
  },
  {
   "cell_type": "code",
   "execution_count": 6,
   "id": "830e2789",
   "metadata": {},
   "outputs": [
    {
     "data": {
      "application/vnd.jupyter.widget-view+json": {
       "model_id": "577d6f99cbb947769ab8a2e8797c8ee3",
       "version_major": 2,
       "version_minor": 0
      },
      "text/plain": [
       "  0%|          | 0/10881 [00:00<?, ?it/s]"
      ]
     },
     "metadata": {},
     "output_type": "display_data"
    }
   ],
   "source": [
    "model.eval()\n",
    "\n",
    "predictions = []\n",
    "\n",
    "dataloader = DataLoader(dataset, batch_size = BATCH_SIZE,\n",
    "                        shuffle=False, drop_last=False)\n",
    "\n",
    "for data in tqdm(dataloader):\n",
    "    features = data['features'].to(DEVICE)\n",
    "\n",
    "    labels = data['labels'].to(DEVICE)\n",
    "        \n",
    "    logits = model(features)\n",
    "    predictions.append(torch.sigmoid(logits).detach().cpu())"
   ]
  },
  {
   "cell_type": "code",
   "execution_count": 7,
   "id": "e3250ea0",
   "metadata": {},
   "outputs": [],
   "source": [
    "predictions = [prediction.numpy() for prediction in predictions]"
   ]
  },
  {
   "cell_type": "code",
   "execution_count": 8,
   "id": "87be8e96",
   "metadata": {},
   "outputs": [
    {
     "name": "stdout",
     "output_type": "stream",
     "text": [
      "(1392727, 4)\n"
     ]
    }
   ],
   "source": [
    "prediction_arr = np.concatenate(predictions, axis=0)\n",
    "print(prediction_arr.shape)"
   ]
  },
  {
   "cell_type": "code",
   "execution_count": 9,
   "id": "86691904",
   "metadata": {},
   "outputs": [
    {
     "data": {
      "text/html": [
       "<div>\n",
       "<style scoped>\n",
       "    .dataframe tbody tr th:only-of-type {\n",
       "        vertical-align: middle;\n",
       "    }\n",
       "\n",
       "    .dataframe tbody tr th {\n",
       "        vertical-align: top;\n",
       "    }\n",
       "\n",
       "    .dataframe thead th {\n",
       "        text-align: right;\n",
       "    }\n",
       "</style>\n",
       "<table border=\"1\" class=\"dataframe\">\n",
       "  <thead>\n",
       "    <tr style=\"text-align: right;\">\n",
       "      <th></th>\n",
       "      <th>reply</th>\n",
       "      <th>retweet</th>\n",
       "      <th>retweet_comment</th>\n",
       "      <th>like</th>\n",
       "    </tr>\n",
       "  </thead>\n",
       "  <tbody>\n",
       "    <tr>\n",
       "      <th>rce</th>\n",
       "      <td>16.394132</td>\n",
       "      <td>23.055234</td>\n",
       "      <td>5.656965</td>\n",
       "      <td>10.009639</td>\n",
       "    </tr>\n",
       "    <tr>\n",
       "      <th>avg_prec</th>\n",
       "      <td>0.201447</td>\n",
       "      <td>0.455484</td>\n",
       "      <td>0.044813</td>\n",
       "      <td>0.663035</td>\n",
       "    </tr>\n",
       "  </tbody>\n",
       "</table>\n",
       "</div>"
      ],
      "text/plain": [
       "              reply    retweet  retweet_comment       like\n",
       "rce       16.394132  23.055234         5.656965  10.009639\n",
       "avg_prec   0.201447   0.455484         0.044813   0.663035"
      ]
     },
     "execution_count": 9,
     "metadata": {},
     "output_type": "execute_result"
    }
   ],
   "source": [
    "results_df = get_results_df(prediction_arr, ground_truths)\n",
    "\n",
    "results_df"
   ]
  }
 ],
 "metadata": {
  "kernelspec": {
   "display_name": "Python 3",
   "language": "python",
   "name": "python3"
  },
  "language_info": {
   "codemirror_mode": {
    "name": "ipython",
    "version": 3
   },
   "file_extension": ".py",
   "mimetype": "text/x-python",
   "name": "python",
   "nbconvert_exporter": "python",
   "pygments_lexer": "ipython3",
   "version": "3.7.10"
  }
 },
 "nbformat": 4,
 "nbformat_minor": 5
}
