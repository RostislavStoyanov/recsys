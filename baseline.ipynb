{
 "cells": [
  {
   "cell_type": "code",
   "execution_count": 1,
   "id": "3c84cf8f",
   "metadata": {},
   "outputs": [],
   "source": [
    "import pandas as pd\n",
    "import numpy as np\n",
    "\n",
    "from utils.utils import calculate_metrics, load_test_data, get_results_df\n",
    "\n",
    "np.random.seed(42)"
   ]
  },
  {
   "cell_type": "code",
   "execution_count": 2,
   "id": "6e04bb74",
   "metadata": {},
   "outputs": [],
   "source": [
    "DATA_PATH = \"./data/\"\n",
    "target_feats = ['reply', 'retweet', 'retweet_comment', 'like']"
   ]
  },
  {
   "cell_type": "code",
   "execution_count": 3,
   "id": "27c17013",
   "metadata": {},
   "outputs": [],
   "source": [
    "test_df = load_test_data(DATA_PATH)"
   ]
  },
  {
   "cell_type": "code",
   "execution_count": 4,
   "id": "5cfd4a0f",
   "metadata": {},
   "outputs": [],
   "source": [
    "random_predictions = np.random.rand(len(test_df), 4)"
   ]
  },
  {
   "cell_type": "code",
   "execution_count": 5,
   "id": "7331eab3",
   "metadata": {},
   "outputs": [],
   "source": [
    "ground_truths = test_df.loc[:, target_feats].values"
   ]
  },
  {
   "cell_type": "code",
   "execution_count": 6,
   "id": "ddd02578",
   "metadata": {},
   "outputs": [
    {
     "name": "stdout",
     "output_type": "stream",
     "text": [
      "(1392727, 4)\n",
      "(1392727, 4)\n"
     ]
    }
   ],
   "source": [
    "print(random_predictions.shape)\n",
    "print(ground_truths.shape)"
   ]
  },
  {
   "cell_type": "code",
   "execution_count": 7,
   "id": "8ce75d08",
   "metadata": {},
   "outputs": [
    {
     "data": {
      "text/html": [
       "<div>\n",
       "<style scoped>\n",
       "    .dataframe tbody tr th:only-of-type {\n",
       "        vertical-align: middle;\n",
       "    }\n",
       "\n",
       "    .dataframe tbody tr th {\n",
       "        vertical-align: top;\n",
       "    }\n",
       "\n",
       "    .dataframe thead th {\n",
       "        text-align: right;\n",
       "    }\n",
       "</style>\n",
       "<table border=\"1\" class=\"dataframe\">\n",
       "  <thead>\n",
       "    <tr style=\"text-align: right;\">\n",
       "      <th></th>\n",
       "      <th>reply</th>\n",
       "      <th>retweet</th>\n",
       "      <th>retweet_comment</th>\n",
       "      <th>like</th>\n",
       "    </tr>\n",
       "  </thead>\n",
       "  <tbody>\n",
       "    <tr>\n",
       "      <th>rce</th>\n",
       "      <td>-786.842171</td>\n",
       "      <td>-206.248364</td>\n",
       "      <td>-2330.832653</td>\n",
       "      <td>-47.300356</td>\n",
       "    </tr>\n",
       "    <tr>\n",
       "      <th>avg_prec</th>\n",
       "      <td>0.023659</td>\n",
       "      <td>0.101065</td>\n",
       "      <td>0.006828</td>\n",
       "      <td>0.415840</td>\n",
       "    </tr>\n",
       "  </tbody>\n",
       "</table>\n",
       "</div>"
      ],
      "text/plain": [
       "               reply     retweet  retweet_comment       like\n",
       "rce      -786.842171 -206.248364     -2330.832653 -47.300356\n",
       "avg_prec    0.023659    0.101065         0.006828   0.415840"
      ]
     },
     "execution_count": 7,
     "metadata": {},
     "output_type": "execute_result"
    }
   ],
   "source": [
    "results_df = get_results_df(random_predictions, ground_truths)\n",
    "\n",
    "results_df"
   ]
  },
  {
   "cell_type": "code",
   "execution_count": null,
   "id": "33406ea3",
   "metadata": {},
   "outputs": [],
   "source": []
  }
 ],
 "metadata": {
  "kernelspec": {
   "display_name": "Python 3",
   "language": "python",
   "name": "python3"
  },
  "language_info": {
   "codemirror_mode": {
    "name": "ipython",
    "version": 3
   },
   "file_extension": ".py",
   "mimetype": "text/x-python",
   "name": "python",
   "nbconvert_exporter": "python",
   "pygments_lexer": "ipython3",
   "version": "3.7.10"
  }
 },
 "nbformat": 4,
 "nbformat_minor": 5
}
