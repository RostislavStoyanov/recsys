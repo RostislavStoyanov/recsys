{
 "cells": [
  {
   "cell_type": "code",
   "execution_count": 10,
   "id": "3c84cf8f",
   "metadata": {},
   "outputs": [],
   "source": [
    "import pandas as pd\n",
    "import numpy as np\n",
    "\n",
    "import torch\n",
    "\n",
    "from utils.utils import calculate_metrics, load_test_data, get_results_df\n",
    "\n",
    "np.random.seed(42)"
   ]
  },
  {
   "cell_type": "code",
   "execution_count": 4,
   "id": "6e04bb74",
   "metadata": {},
   "outputs": [],
   "source": [
    "DATA_PATH = \"./data/\"\n",
    "target_feats = ['reply', 'retweet', 'retweet_comment', 'like']"
   ]
  },
  {
   "cell_type": "code",
   "execution_count": 8,
   "id": "27c17013",
   "metadata": {},
   "outputs": [
    {
     "name": "stdout",
     "output_type": "stream",
     "text": [
      "    reply  retweet  retweet_comment  like\n",
      "0     0.0      1.0              0.0   0.0\n",
      "1     0.0      0.0              0.0   0.0\n",
      "2     0.0      0.0              0.0   1.0\n",
      "3     0.0      0.0              0.0   0.0\n",
      "4     0.0      0.0              0.0   0.0\n",
      "5     0.0      0.0              0.0   0.0\n",
      "6     0.0      0.0              0.0   0.0\n",
      "7     0.0      0.0              0.0   1.0\n",
      "8     0.0      0.0              0.0   1.0\n",
      "9     0.0      0.0              0.0   1.0\n",
      "10    0.0      1.0              0.0   0.0\n"
     ]
    }
   ],
   "source": [
    "test_df = load_test_data(DATA_PATH)\n",
    "print(test_df.loc[0:10, target_feats])"
   ]
  },
  {
   "cell_type": "code",
   "execution_count": 19,
   "id": "5cfd4a0f",
   "metadata": {},
   "outputs": [],
   "source": [
    "random_predictions = torch.nn.functional.softmax(torch.Tensor(np.random.rand(len(test_df), 4)),dim=1).numpy()"
   ]
  },
  {
   "cell_type": "code",
   "execution_count": 20,
   "id": "7331eab3",
   "metadata": {},
   "outputs": [],
   "source": [
    "ground_truths = test_df.loc[:, target_feats].values"
   ]
  },
  {
   "cell_type": "code",
   "execution_count": 21,
   "id": "ddd02578",
   "metadata": {},
   "outputs": [
    {
     "name": "stdout",
     "output_type": "stream",
     "text": [
      "(1392727, 4)\n",
      "(1392727, 4)\n"
     ]
    }
   ],
   "source": [
    "print(random_predictions.shape)\n",
    "print(ground_truths.shape)"
   ]
  },
  {
   "cell_type": "code",
   "execution_count": 22,
   "id": "8ce75d08",
   "metadata": {},
   "outputs": [
    {
     "data": {
      "text/html": [
       "<div>\n",
       "<style scoped>\n",
       "    .dataframe tbody tr th:only-of-type {\n",
       "        vertical-align: middle;\n",
       "    }\n",
       "\n",
       "    .dataframe tbody tr th {\n",
       "        vertical-align: top;\n",
       "    }\n",
       "\n",
       "    .dataframe thead th {\n",
       "        text-align: right;\n",
       "    }\n",
       "</style>\n",
       "<table border=\"1\" class=\"dataframe\">\n",
       "  <thead>\n",
       "    <tr style=\"text-align: right;\">\n",
       "      <th></th>\n",
       "      <th>reply</th>\n",
       "      <th>retweet</th>\n",
       "      <th>retweet_comment</th>\n",
       "      <th>like</th>\n",
       "    </tr>\n",
       "  </thead>\n",
       "  <tbody>\n",
       "    <tr>\n",
       "      <th>rce</th>\n",
       "      <td>-181.911789</td>\n",
       "      <td>-23.948369</td>\n",
       "      <td>-626.419781</td>\n",
       "      <td>-11.887266</td>\n",
       "    </tr>\n",
       "    <tr>\n",
       "      <th>avg_prec</th>\n",
       "      <td>0.023779</td>\n",
       "      <td>0.100533</td>\n",
       "      <td>0.006910</td>\n",
       "      <td>0.416479</td>\n",
       "    </tr>\n",
       "  </tbody>\n",
       "</table>\n",
       "</div>"
      ],
      "text/plain": [
       "               reply    retweet  retweet_comment       like\n",
       "rce      -181.911789 -23.948369      -626.419781 -11.887266\n",
       "avg_prec    0.023779   0.100533         0.006910   0.416479"
      ]
     },
     "execution_count": 22,
     "metadata": {},
     "output_type": "execute_result"
    }
   ],
   "source": [
    "results_df = get_results_df(random_predictions, ground_truths)\n",
    "\n",
    "results_df"
   ]
  },
  {
   "cell_type": "code",
   "execution_count": null,
   "id": "33406ea3",
   "metadata": {},
   "outputs": [],
   "source": []
  }
 ],
 "metadata": {
  "kernelspec": {
   "display_name": "Python 3",
   "language": "python",
   "name": "python3"
  },
  "language_info": {
   "codemirror_mode": {
    "name": "ipython",
    "version": 3
   },
   "file_extension": ".py",
   "mimetype": "text/x-python",
   "name": "python",
   "nbconvert_exporter": "python",
   "pygments_lexer": "ipython3",
   "version": "3.8.10"
  }
 },
 "nbformat": 4,
 "nbformat_minor": 5
}
