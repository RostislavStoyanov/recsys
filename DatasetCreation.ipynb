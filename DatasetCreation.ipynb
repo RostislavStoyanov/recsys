{
 "cells": [
  {
   "cell_type": "code",
   "execution_count": 1,
   "id": "aa4b3043",
   "metadata": {},
   "outputs": [],
   "source": [
    "import pandas as pd\n",
    "import numpy as np\n",
    "\n",
    "import glob\n",
    "\n",
    "from tqdm.auto import tqdm"
   ]
  },
  {
   "cell_type": "code",
   "execution_count": 2,
   "id": "fb71354e",
   "metadata": {},
   "outputs": [],
   "source": [
    "DATA_PATH = \"./data/\"\n",
    "all_files = glob.glob(DATA_PATH+\"*.tsv\")\n",
    "all_files.sort()\n",
    "\n",
    "np.random.seed(42)\n",
    "\n",
    "USER_COUNT = 50000"
   ]
  },
  {
   "cell_type": "code",
   "execution_count": 3,
   "id": "90d45ed9",
   "metadata": {},
   "outputs": [],
   "source": [
    "features = [\n",
    "    'text_tokens',    ###############\n",
    "    'hashtags',       #Tweet Features\n",
    "    'tweet_id',       #\n",
    "    'media',          #\n",
    "    'links',          #\n",
    "    'domains',        #\n",
    "    'tweet_type',     #\n",
    "    'language',       #\n",
    "    'timestamp',      ###############\n",
    "    'engaged_with_user_id',              ###########################\n",
    "    'engaged_with_user_follower_count',  #Engaged With User Features\n",
    "    'engaged_with_user_following_count', #\n",
    "    'engaged_with_user_is_verified',     #\n",
    "    'engaged_with_user_account_creation', ###########################\n",
    "    'engaging_user_id',                  #######################\n",
    "    'engaging_user_follower_count',      #Engaging User Features\n",
    "    'engaging_user_following_count',     #\n",
    "    'engaging_user_is_verified',         #\n",
    "    'engaging_user_account_creation',    #######################\n",
    "    'engagee_follows_engager',    #################### Engagement Features\n",
    "    'reply',          #Target Reply\n",
    "    'retweet',        #Target Retweet    \n",
    "    'retweet_comment',#Target Retweet with comment\n",
    "    'like',           #Target Like\n",
    "                      ####################\n",
    "]\n"
   ]
  },
  {
   "cell_type": "markdown",
   "id": "6afed6b0",
   "metadata": {},
   "source": [
    "#### Extract users that we will get data for"
   ]
  },
  {
   "cell_type": "code",
   "execution_count": 4,
   "id": "f124d768",
   "metadata": {},
   "outputs": [],
   "source": [
    "df = pd.read_csv(all_files[0], header=None, names=features, sep='\\x01')"
   ]
  },
  {
   "cell_type": "code",
   "execution_count": 5,
   "id": "d59fb4fc",
   "metadata": {},
   "outputs": [],
   "source": [
    "unique_users = df['engaging_user_id'].unique()"
   ]
  },
  {
   "cell_type": "code",
   "execution_count": 6,
   "id": "37a479d2",
   "metadata": {},
   "outputs": [
    {
     "name": "stdout",
     "output_type": "stream",
     "text": [
      "(3300770, 24)\n",
      "(2303793,)\n"
     ]
    }
   ],
   "source": [
    "print(df.shape)\n",
    "print(unique_users.shape)\n",
    "##TODO explore which users have how many tweets"
   ]
  },
  {
   "cell_type": "code",
   "execution_count": 7,
   "id": "a67519f9",
   "metadata": {},
   "outputs": [
    {
     "name": "stdout",
     "output_type": "stream",
     "text": [
      "True\n"
     ]
    }
   ],
   "source": [
    "dataset_users = np.random.choice(unique_users, (USER_COUNT, ))\n",
    "print(dataset_users.shape == (USER_COUNT,)) #sanity check"
   ]
  },
  {
   "cell_type": "code",
   "execution_count": 8,
   "id": "005931f8",
   "metadata": {},
   "outputs": [
    {
     "name": "stdout",
     "output_type": "stream",
     "text": [
      "(70763, 24)\n"
     ]
    }
   ],
   "source": [
    "dataset = df[df['engaging_user_id'].isin(dataset_users)]\n",
    "print(dataset.shape)"
   ]
  },
  {
   "cell_type": "code",
   "execution_count": 9,
   "id": "a7d367ef",
   "metadata": {},
   "outputs": [
    {
     "data": {
      "application/vnd.jupyter.widget-view+json": {
       "model_id": "adeaca65069247e991c37843908deefa",
       "version_major": 2,
       "version_minor": 0
      },
      "text/plain": [
       "  0%|          | 0/252 [00:00<?, ?it/s]"
      ]
     },
     "metadata": {},
     "output_type": "display_data"
    },
    {
     "name": "stdout",
     "output_type": "stream",
     "text": [
      "(6963638, 24)\n"
     ]
    }
   ],
   "source": [
    "# adding threading might speed things up\n",
    "for file in tqdm(all_files[1:]):\n",
    "    df = pd.read_csv(file, header=None, names=features, sep='\\x01')\n",
    "    current_unique = df[df['engaging_user_id'].isin(dataset_users)]\n",
    "    dataset = dataset.append(current_unique)\n",
    "    \n",
    "print(dataset.shape)"
   ]
  },
  {
   "cell_type": "code",
   "execution_count": 10,
   "id": "682bb95c",
   "metadata": {},
   "outputs": [],
   "source": [
    "dataset.to_csv(DATA_PATH + \"dataset_filtered_small.csv\")"
   ]
  },
  {
   "cell_type": "code",
   "execution_count": null,
   "id": "59b78dc9",
   "metadata": {},
   "outputs": [],
   "source": []
  }
 ],
 "metadata": {
  "kernelspec": {
   "display_name": "Python 3",
   "language": "python",
   "name": "python3"
  },
  "language_info": {
   "codemirror_mode": {
    "name": "ipython",
    "version": 3
   },
   "file_extension": ".py",
   "mimetype": "text/x-python",
   "name": "python",
   "nbconvert_exporter": "python",
   "pygments_lexer": "ipython3",
   "version": "3.7.10"
  }
 },
 "nbformat": 4,
 "nbformat_minor": 5
}
