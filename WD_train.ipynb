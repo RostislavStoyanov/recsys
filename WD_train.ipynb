{
 "cells": [
  {
   "cell_type": "code",
   "execution_count": 1,
   "id": "e09d63bb",
   "metadata": {},
   "outputs": [],
   "source": [
    "import re\n",
    "from itertools import product\n",
    "from collections import Counter\n",
    "\n",
    "from tqdm.auto import tqdm\n",
    "\n",
    "import pandas as pd\n",
    "import numpy as np\n",
    "\n",
    "import torch\n",
    "from torch import nn\n",
    "from torch.utils.data import DataLoader\n",
    "\n",
    "\n",
    "from models.WD_Dataset import WD_Dataset \n",
    "from models.Wide_Deep import Wide_Deep"
   ]
  },
  {
   "cell_type": "code",
   "execution_count": 2,
   "id": "d50a393f",
   "metadata": {},
   "outputs": [
    {
     "name": "stdout",
     "output_type": "stream",
     "text": [
      "cuda\n"
     ]
    }
   ],
   "source": [
    "DATA_PATH = \"./data/\"\n",
    "CHECKPOINT_DIR = \"./checkpoints/\"\n",
    "DEVICE = \"cuda\" if torch.cuda.is_available() else \"cpu\"\n",
    "\n",
    "print(DEVICE)"
   ]
  },
  {
   "cell_type": "code",
   "execution_count": 3,
   "id": "8b3bd2c7",
   "metadata": {},
   "outputs": [],
   "source": [
    "orig_features = [\n",
    "    'text_tokens',    ###############\n",
    "    'hashtags',       #Tweet Features\n",
    "    'tweet_id',       #\n",
    "    'media',          #\n",
    "    'links',          #\n",
    "    'domains',        #\n",
    "    'tweet_type',     #\n",
    "    'language',       #\n",
    "    'timestamp',      ###############\n",
    "    'engaged_with_user_id',              ###########################\n",
    "    'engaged_with_user_follower_count',  #Engaged With User Features\n",
    "    'engaged_with_user_following_count', #\n",
    "    'engaged_with_user_is_verified',     #\n",
    "    'engaged_with_user_account_creation', ###########################\n",
    "    'engaging_user_id',                  #######################\n",
    "    'engaging_user_follower_count',      #Engaging User Features\n",
    "    'engaging_user_following_count',     #\n",
    "    'engaging_user_is_verified',         #\n",
    "    'engaging_user_account_creation',    #######################\n",
    "    'engagee_follows_engager',    #################### Engagement Features\n",
    "    'reply',          #Target Reply\n",
    "    'retweet',        #Target Retweet    \n",
    "    'retweet_comment',#Target Retweet with comment\n",
    "    'like',           #Target Like\n",
    "                      ####################\n",
    "]\n",
    "\n",
    "target_features = orig_features[-4:]\n",
    "numerical_features = ['engaged_with_user_follower_count', 'engaged_with_user_following_count', \n",
    "                      'engaging_user_follower_count', 'engaging_user_following_count', 'url_cnt',\n",
    "                      'char_cnt', 'hashtag_cnt', 'Photo_cnt', 'Video_cnt', 'GIF_cnt']\n",
    "categorical_features = ['language', 'engaged_with_user_id', 'engaging_user_id', 'tweet_type']\n",
    "\n",
    "\n",
    "cat_target_prod = product(categorical_features, target_features)\n",
    "features = []\n",
    "for (cat, target) in cat_target_prod:\n",
    "    features.append(cat+\"_\"+target+\"_TE\")\n",
    "\n",
    "m = 20\n",
    "MAX_LEN = 100"
   ]
  },
  {
   "cell_type": "code",
   "execution_count": 4,
   "id": "2f0f32d6",
   "metadata": {},
   "outputs": [],
   "source": [
    "train_df = pd.read_csv(DATA_PATH+\"train.csv\")\n",
    "valid_df = pd.read_csv(DATA_PATH+\"valid.csv\")"
   ]
  },
  {
   "cell_type": "code",
   "execution_count": 5,
   "id": "474bd160",
   "metadata": {},
   "outputs": [],
   "source": [
    "def create_dataset(df, numerical_features=numerical_features,\n",
    "                   features=features, targets=target_features):\n",
    "    all_features = numerical_features + features\n",
    "    \n",
    "    feats = df.loc[:,all_features].values\n",
    "    target_values = df.loc[:, targets].values\n",
    "    \n",
    "    return WD_Dataset(feats, target_values)"
   ]
  },
  {
   "cell_type": "code",
   "execution_count": 6,
   "id": "7825112e",
   "metadata": {},
   "outputs": [],
   "source": [
    "train_dataset = create_dataset(train_df)\n",
    "valid_dataset = create_dataset(valid_df)"
   ]
  },
  {
   "cell_type": "code",
   "execution_count": 7,
   "id": "9311070c",
   "metadata": {},
   "outputs": [],
   "source": [
    "model = Wide_Deep(dim_features=len(numerical_features + features),\n",
    "                                dim_hidden=[768,512,256,128,64,32]).to(DEVICE)"
   ]
  },
  {
   "cell_type": "code",
   "execution_count": 8,
   "id": "d9be50d0",
   "metadata": {},
   "outputs": [],
   "source": [
    "EPOCH_COUNT = 3\n",
    "BATCH_SIZE = 24\n",
    "\n",
    "optimizer = torch.optim.Adam(model.parameters(), lr=7e-5)\n",
    "loss_fn = nn.BCEWithLogitsLoss()"
   ]
  },
  {
   "cell_type": "code",
   "execution_count": 9,
   "id": "b44789aa",
   "metadata": {},
   "outputs": [
    {
     "data": {
      "application/vnd.jupyter.widget-view+json": {
       "model_id": "9f4072deecec4b418bec46c7dd232b12",
       "version_major": 2,
       "version_minor": 0
      },
      "text/plain": [
       "  0%|          | 0/174091 [00:00<?, ?it/s]"
      ]
     },
     "metadata": {},
     "output_type": "display_data"
    },
    {
     "data": {
      "application/vnd.jupyter.widget-view+json": {
       "model_id": "06b99466e7fc400696c54a9ec6f5f74f",
       "version_major": 2,
       "version_minor": 0
      },
      "text/plain": [
       "  0%|          | 0/58031 [00:00<?, ?it/s]"
      ]
     },
     "metadata": {},
     "output_type": "display_data"
    },
    {
     "name": "stdout",
     "output_type": "stream",
     "text": [
      "Epoch: 0, step: 0, train_loss: 0.6854370832443237, valid_loss: 0.6790282726287842\n"
     ]
    },
    {
     "data": {
      "application/vnd.jupyter.widget-view+json": {
       "model_id": "c9a092b2dae54225aad2f5fd5aee9781",
       "version_major": 2,
       "version_minor": 0
      },
      "text/plain": [
       "  0%|          | 0/58031 [00:00<?, ?it/s]"
      ]
     },
     "metadata": {},
     "output_type": "display_data"
    },
    {
     "name": "stdout",
     "output_type": "stream",
     "text": [
      "Epoch: 0, step: 75000, train_loss: 0.2519526183605194, valid_loss: 0.24311146140098572\n"
     ]
    },
    {
     "data": {
      "application/vnd.jupyter.widget-view+json": {
       "model_id": "bde60ce59ee94b59ae2c89216f5a9a9d",
       "version_major": 2,
       "version_minor": 0
      },
      "text/plain": [
       "  0%|          | 0/58031 [00:00<?, ?it/s]"
      ]
     },
     "metadata": {},
     "output_type": "display_data"
    },
    {
     "name": "stdout",
     "output_type": "stream",
     "text": [
      "Epoch: 0, step: 150000, train_loss: 0.23137380182743073, valid_loss: 0.23751363158226013\n"
     ]
    },
    {
     "data": {
      "application/vnd.jupyter.widget-view+json": {
       "model_id": "6f4287f3ae574de387c4afd27ff3f8b3",
       "version_major": 2,
       "version_minor": 0
      },
      "text/plain": [
       "  0%|          | 0/174091 [00:00<?, ?it/s]"
      ]
     },
     "metadata": {},
     "output_type": "display_data"
    },
    {
     "data": {
      "application/vnd.jupyter.widget-view+json": {
       "model_id": "2c2b975857b94ea5a975fc72c2c8ec81",
       "version_major": 2,
       "version_minor": 0
      },
      "text/plain": [
       "  0%|          | 0/58031 [00:00<?, ?it/s]"
      ]
     },
     "metadata": {},
     "output_type": "display_data"
    },
    {
     "name": "stdout",
     "output_type": "stream",
     "text": [
      "Epoch: 1, step: 0, train_loss: 0.12331333011388779, valid_loss: 0.23804187774658203\n"
     ]
    },
    {
     "data": {
      "application/vnd.jupyter.widget-view+json": {
       "model_id": "3c0735ba6cbf45dd93d3ccf4475cdade",
       "version_major": 2,
       "version_minor": 0
      },
      "text/plain": [
       "  0%|          | 0/58031 [00:00<?, ?it/s]"
      ]
     },
     "metadata": {},
     "output_type": "display_data"
    },
    {
     "name": "stdout",
     "output_type": "stream",
     "text": [
      "Epoch: 1, step: 75000, train_loss: 0.20077230036258698, valid_loss: 0.2376370131969452\n"
     ]
    },
    {
     "data": {
      "application/vnd.jupyter.widget-view+json": {
       "model_id": "8698374a488e4802b26e4bdc4b272a2f",
       "version_major": 2,
       "version_minor": 0
      },
      "text/plain": [
       "  0%|          | 0/58031 [00:00<?, ?it/s]"
      ]
     },
     "metadata": {},
     "output_type": "display_data"
    },
    {
     "name": "stdout",
     "output_type": "stream",
     "text": [
      "Epoch: 1, step: 150000, train_loss: 0.19822804629802704, valid_loss: 0.23784269392490387\n"
     ]
    },
    {
     "data": {
      "application/vnd.jupyter.widget-view+json": {
       "model_id": "5aa4438bde7545a4b93ea88de69a5af1",
       "version_major": 2,
       "version_minor": 0
      },
      "text/plain": [
       "  0%|          | 0/174091 [00:00<?, ?it/s]"
      ]
     },
     "metadata": {},
     "output_type": "display_data"
    },
    {
     "data": {
      "application/vnd.jupyter.widget-view+json": {
       "model_id": "f731dbfda68f4612babc457e4ccea37c",
       "version_major": 2,
       "version_minor": 0
      },
      "text/plain": [
       "  0%|          | 0/58031 [00:00<?, ?it/s]"
      ]
     },
     "metadata": {},
     "output_type": "display_data"
    },
    {
     "name": "stdout",
     "output_type": "stream",
     "text": [
      "Epoch: 2, step: 0, train_loss: 0.18526583909988403, valid_loss: 0.24563662707805634\n"
     ]
    },
    {
     "data": {
      "application/vnd.jupyter.widget-view+json": {
       "model_id": "7f20532b158c4e63bedd3fb40ec45198",
       "version_major": 2,
       "version_minor": 0
      },
      "text/plain": [
       "  0%|          | 0/58031 [00:00<?, ?it/s]"
      ]
     },
     "metadata": {},
     "output_type": "display_data"
    },
    {
     "name": "stdout",
     "output_type": "stream",
     "text": [
      "Epoch: 2, step: 75000, train_loss: 0.1908913105726242, valid_loss: 0.24513551592826843\n"
     ]
    },
    {
     "data": {
      "application/vnd.jupyter.widget-view+json": {
       "model_id": "13c885daf922403896aa975dde654f72",
       "version_major": 2,
       "version_minor": 0
      },
      "text/plain": [
       "  0%|          | 0/58031 [00:00<?, ?it/s]"
      ]
     },
     "metadata": {},
     "output_type": "display_data"
    },
    {
     "name": "stdout",
     "output_type": "stream",
     "text": [
      "Epoch: 2, step: 150000, train_loss: 0.18958505988121033, valid_loss: 0.2504119277000427\n"
     ]
    }
   ],
   "source": [
    "def calc_valid_loss(model, valid_loss, batch_size, loss_fn):\n",
    "    model.eval()\n",
    "    loss_list = []\n",
    "    dataloader = DataLoader(valid_dataset, batch_size=batch_size, \n",
    "                            shuffle=False, drop_last=False)\n",
    "    \n",
    "    for data in tqdm(dataloader):\n",
    "        features = data['features'].to(DEVICE)\n",
    "\n",
    "        labels = data['labels'].to(DEVICE)\n",
    "        \n",
    "        logits = model(features)\n",
    "        loss = loss_fn(logits, labels)\n",
    "        \n",
    "        loss_list.append(loss.detach().cpu())\n",
    "        \n",
    "    \n",
    "    \n",
    "    model.train()\n",
    "    return np.mean(loss_list)\n",
    "\n",
    "\n",
    "def train_model(model, train_dataset, valid_datset, optimizer, loss_fn, \n",
    "                batch_size=BATCH_SIZE, epochs=EPOCH_COUNT):\n",
    "    model.train()\n",
    "    \n",
    "    for epoch in range(3):\n",
    "        dataloader = DataLoader(train_dataset, batch_size=batch_size,\n",
    "                                shuffle=True, drop_last=False)\n",
    "        avg_loss = []\n",
    "        best_valid_loss = None\n",
    "        for step, data in enumerate(tqdm(dataloader)):\n",
    "            features = data['features'].to(DEVICE)\n",
    "\n",
    "            labels = data['labels'].to(DEVICE)\n",
    "\n",
    "            logits = model(features)\n",
    "            loss = loss_fn(logits, labels)\n",
    "\n",
    "            loss.backward()\n",
    "            optimizer.step()\n",
    "            \n",
    "            avg_loss.append(loss.detach().cpu())\n",
    "            \n",
    "            if(step % 75000 == 0):\n",
    "                train_loss = np.mean(avg_loss)\n",
    "                valid_loss = calc_valid_loss(model, valid_dataset, batch_size, loss_fn)\n",
    "                print(\"Epoch: {}, step: {}, train_loss: {}, valid_loss: {}\"\n",
    "                     .format(epoch, step, train_loss, valid_loss))\n",
    "                torch.save(model.state_dict(),(CHECKPOINT_DIR+\"WD_epoch_{}_step_{}\").format(epoch, step))\n",
    "                \n",
    "                #if(best_valid_loss is None or valid_loss < best_valid_loss):\n",
    "                 #   model.save_pretrained(CHECKPOINT_DIR+\"best_valid_loss\")\n",
    "                  #  best_valid_loss = valid_loss \n",
    "\n",
    "            \n",
    "            optimizer.zero_grad()\n",
    "            \n",
    "        torch.save(model.state_dict(),(CHECKPOINT_DIR+\"WD_epoch_{}_end\").format(epoch))\n",
    "train_model(model, train_dataset, valid_dataset, optimizer, loss_fn)"
   ]
  },
  {
   "cell_type": "code",
   "execution_count": null,
   "id": "13051f66",
   "metadata": {},
   "outputs": [],
   "source": []
  }
 ],
 "metadata": {
  "kernelspec": {
   "display_name": "Python 3",
   "language": "python",
   "name": "python3"
  },
  "language_info": {
   "codemirror_mode": {
    "name": "ipython",
    "version": 3
   },
   "file_extension": ".py",
   "mimetype": "text/x-python",
   "name": "python",
   "nbconvert_exporter": "python",
   "pygments_lexer": "ipython3",
   "version": "3.7.10"
  }
 },
 "nbformat": 4,
 "nbformat_minor": 5
}
